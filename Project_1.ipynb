{
  "nbformat": 4,
  "nbformat_minor": 0,
  "metadata": {
    "colab": {
      "name": "Project_1.ipynb",
      "provenance": [],
      "collapsed_sections": [],
      "authorship_tag": "ABX9TyOjsjxyiJexO4fDsKmQRlvw",
      "include_colab_link": true
    },
    "kernelspec": {
      "name": "python3",
      "display_name": "Python 3"
    }
  },
  "cells": [
    {
      "cell_type": "markdown",
      "metadata": {
        "id": "view-in-github",
        "colab_type": "text"
      },
      "source": [
        "<a href=\"https://colab.research.google.com/github/AdamFunk42/AdvLinearAlgebra/blob/master/Project_1.ipynb\" target=\"_parent\"><img src=\"https://colab.research.google.com/assets/colab-badge.svg\" alt=\"Open In Colab\"/></a>"
      ]
    },
    {
      "cell_type": "markdown",
      "metadata": {
        "id": "PKZqlHTyZSt4",
        "colab_type": "text"
      },
      "source": [
        "## <center> Project 1: Tangent vectors and transformations\n",
        "\n",
        "\n",
        "*For this project, the properties of three different rotation matrices A, B, and C, each which rotated around axis z, x, and y respectively, were investigated. Their individual properties were explored, as well as their interactions with each other and other external factors such as the exponential. The properties of their tangent matrices were also explored, and the relationship between those matrices and the original rotation matrices.* \n"
      ]
    },
    {
      "cell_type": "markdown",
      "metadata": {
        "id": "Jf4Qn37vch9R",
        "colab_type": "text"
      },
      "source": [
        "Tangent vectors and transformations of tangent vectors can be used to describe what happens when a roatation is applied to a specific space. To give these transformation name, we identify three matrices \n",
        "\n",
        "\n",
        "\n",
        "\n"
      ]
    },
    {
      "cell_type": "markdown",
      "metadata": {
        "id": "QDlxwAChDtVj",
        "colab_type": "text"
      },
      "source": [
        "$$\n",
        "\\begin{equation*}\n",
        "A = \n",
        "\\begin{pmatrix}\n",
        "0 & -1 & 0 \\\\\n",
        "1 & 0 & 0 \\\\\n",
        "0 & 0 & 0\n",
        "\\end{pmatrix}\n",
        "\\ \n",
        "B =\n",
        "\\begin{pmatrix}\n",
        "0 & 0 & 0 \\\\\n",
        "0 & 0 & -1 \\\\\n",
        "0 & 1 & 0\n",
        "\\end{pmatrix}\n",
        "\\ \n",
        "C = \n",
        "\\begin{pmatrix}\n",
        "0 & 0 & 1 \\\\\n",
        "0 & 0 & 0 \\\\\n",
        "-1 & 0 & 0\n",
        "\\end{pmatrix}\n",
        "\\end{equation*} $$"
      ]
    },
    {
      "cell_type": "markdown",
      "metadata": {
        "id": "1FUYChG4HmT0",
        "colab_type": "text"
      },
      "source": [
        "Before we investigate too much further into other potentially interesting properties of these matrices, let us first look at them for what they are. At first, they do not look like a whole lot. They look very simple, each with only two non-zero elements. However, there is one interesting property that takes a bit of investigative work. If we take $B*A$ and subtract it from $A*B$, we see that the result produces $C$. This at first seems an interesting property, but certainly nothing to write home about. This property will become more interesting later on, after doing further investigation."
      ]
    },
    {
      "cell_type": "markdown",
      "metadata": {
        "id": "aBMExHtXDns4",
        "colab_type": "text"
      },
      "source": [
        "To show that these three matrices are indeed a variation of a rotation matrix, we investigate what happens to some arbitrary element $t$ when we multiply it by the matrix and exponentiate the result. By applying Taylor's theorem to each exponentiated matrix, a pattern is discovered where it appears that in two locations somewhere in the matrix, the values summations converge to $\\cos(t)$ while in two other locations, it converges to $-\\sin(t)$ in one location and $\\sin(t)$ in the another, as shown below. "
      ]
    },
    {
      "cell_type": "markdown",
      "metadata": {
        "id": "VLsrXnvXUUku",
        "colab_type": "text"
      },
      "source": [
        ""
      ]
    },
    {
      "cell_type": "markdown",
      "metadata": {
        "id": "SlAfujB_Df18",
        "colab_type": "text"
      },
      "source": [
        "$$\n",
        "\\begin{equation*}\n",
        "\\gamma_A(t) = \n",
        "\\begin{pmatrix}\n",
        "\\cos(t) & -\\sin(t) & 0 \\\\\n",
        "\\sin(t) & \\cos(t) & 0 \\\\\n",
        "0 & 0 & 0\n",
        "\\end{pmatrix}\n",
        "\\ \n",
        "\\gamma_B(t) =\n",
        "\\begin{pmatrix}\n",
        "0 & 0 & 0 \\\\\n",
        "0 & \\cos(t) & -\\sin(t) \\\\\n",
        "0 & \\sin(t) & \\cos(t)\n",
        "\\end{pmatrix}\n",
        "\\ \n",
        "\\gamma_C(t) = \n",
        "\\begin{pmatrix}\n",
        "\\cos(t) & 0 & \\sin(t) \\\\\n",
        "0 & 0 & 0 \\\\\n",
        "-\\sin(t) & 0 & \\cos(t)\n",
        "\\end{pmatrix}\n",
        "\\end{equation*} $$"
      ]
    },
    {
      "cell_type": "markdown",
      "metadata": {
        "id": "QRq1H85zDcrt",
        "colab_type": "text"
      },
      "source": [
        "We can notice in $\\gamma_A(t)$ and $\\gamma_B(t)$ that these $\\cos$ and $\\sin$ functions are in a very specific patter, as the two $\\cos$ functions are diagonal of each other and the two $\\sin$ functions are in the opposite diagonal direction with the $-\\sin$ function always being in the top right corner. Upon further investigation, it becomes clear that these matrices are a part of the same torus. It comes as no surprise then that each of these matrices represent a different rotation, each around a different axis. "
      ]
    },
    {
      "cell_type": "markdown",
      "metadata": {
        "id": "xCmuONL9bW0-",
        "colab_type": "text"
      },
      "source": [
        "What we have just developed are maps that acts on the $\\mathbb{R}^3$ space. Upon taking the standard basis for each element of $\\mathbb{R}^3$, we find that for each mapping, there is one element that is sent to $0$. This is particularly interesting as it tells us that the map is not acting upon that element. For instance, when using $\\gamma_A(t)$ on the vector $(0, 0, 1)$ the result is just $(0, 0, 0)$, which indicates that the rotation did nothing to the $z$ element in $\\mathbb{R}^3$. This is also the case for the $x$ element in relation to $Bt$ and the $y$ element in relation to $Ct$. This implies the the rotation is being done around the axis of the element that gets sent to $0$. "
      ]
    },
    {
      "cell_type": "markdown",
      "metadata": {
        "id": "lwft23xzD1N5",
        "colab_type": "text"
      },
      "source": [
        "After investigating this result, other properties were explored of these new maps. The first was wheter applying a rotation twice was the same as doing two times the rotation in one fell sweep. We thought that this was true, and tested it with $At$. The result held for an arbitrary element $t$, and so holds for every element $t$ that could be used. Thus, we concluded it was indeed the case that two rotations was the same as one rotation of twice the size. "
      ]
    },
    {
      "cell_type": "markdown",
      "metadata": {
        "id": "ZcwTjlSTFj5k",
        "colab_type": "text"
      },
      "source": [
        "Next, we investigate the derivative, or tangent vector, of each of these maps and evaluating each at $0$. When we do so, we get a result that looks familiar. For each of the tangent vectors of $\\gamma_A(t), \\gamma_B(t),$ and $\\gamma_C(t)$, the evaluation at $0$ is merely the original matrix $A, B,$ and $C$. For example, our result for the derivative of $\\gamma_A(t)$ is "
      ]
    },
    {
      "cell_type": "markdown",
      "metadata": {
        "id": "p9_WSoXaKS2A",
        "colab_type": "text"
      },
      "source": [
        "$$\n",
        "\\begin{equation*}\n",
        "\\gamma_A(t)' = \n",
        "\\begin{pmatrix}\n",
        "-\\sin(t) & -\\cos(t) & 0 \\\\\n",
        "\\cos(t) & -\\sin(t) & 0 \\\\\n",
        "0 & 0 & 0\n",
        "\\end{pmatrix}\n",
        "\\end{equation*}\n",
        "$$"
      ]
    },
    {
      "cell_type": "markdown",
      "metadata": {
        "id": "XFPz8g4_Kf8f",
        "colab_type": "text"
      },
      "source": [
        "This shows that there is an even stronger connection between the rotation for an arbitrary element and the tangent vector from which the rotation map was found. "
      ]
    },
    {
      "cell_type": "markdown",
      "metadata": {
        "id": "pAgI8Ql8KwQg",
        "colab_type": "text"
      },
      "source": [
        "Lastly, we investigate what happens when we take a product of these maps. We already found an interesting relationship within the original matrices $A, B,$ and $C$. It would not be surprising if there was a relationship between $\\gamma_A(t), \\gamma_B(t),$ and $\\gamma_C(t)$ as well. To look at this potential relationship, we will look at what happens when we take $\\gamma_B(-t)*\\gamma_A(-t)*\\gamma_B(t)*\\gamma_A(t)$. The result is ridiculously ugly, one that is not worth being reported in this as this first result is not one that can be easily described, and an application to $\\mathbb{R}^3$ is not trivial. In fact, there is no true way of knowing what this new map does to $\\mathbb{R}^3$. "
      ]
    },
    {
      "cell_type": "markdown",
      "metadata": {
        "id": "_YfsjxkWNXQp",
        "colab_type": "text"
      },
      "source": [
        "One thing we can look at however is the properties of the tangent vector. As this is evaluated at $0$ and our new function, let us call it $Q$. When we take the derivative of this function and plug $0$ in for $t$, we find that it has a value of $0$ everywhere. This does not tell us much about anything. So we take the second derivative, and the result we obtain is significantly more interesting. We see that the tangent vector "
      ]
    },
    {
      "cell_type": "markdown",
      "metadata": {
        "id": "IY-PIkbPTCw4",
        "colab_type": "text"
      },
      "source": [
        "$$\n",
        "\\begin{equation*}\n",
        "Q''(0) =\n",
        "\\begin{pmatrix}\n",
        "0 & 0 & -2 \\\\\n",
        "0 & 0 & 0 \\\\\n",
        "2 & 0 & 0 \\\\\n",
        "\\end{pmatrix}\n",
        "\\end{equation*}\n",
        "$$"
      ]
    },
    {
      "cell_type": "markdown",
      "metadata": {
        "id": "nQ_G3NqPTDcl",
        "colab_type": "text"
      },
      "source": [
        "This result is interesting because it results in a scalar multiple of $C$ as defined to start the entire problem. Not only this, but we already found a combination of the original $A$ and $B$ matrices that resulted in the matrix $C$. After establishing that there was a strong correlation between $\\gamma_A(t)$ and $A$ as well as $\\gamma_B(t)$ and $B$, we know find that even their linear combinations produce similar results. A conjecture can be made that a linear combination of either the rotation map or original matrix of two elements, i.e. $\\gamma_B(t), \\gamma_C(t), B,$ and $C$, will likely be related to the third original matrix, i.e. $A$. Further exploration of the topic would need to be explored to prove this conjecture as fact. "
      ]
    },
    {
      "cell_type": "markdown",
      "metadata": {
        "id": "a3ILIxa5UVms",
        "colab_type": "text"
      },
      "source": [
        "One result that I found to be unexpected was at the very end, that a linear combination of two rotations results in having a tangent vector in the third original matrix. Through the process, the matrix looked too messy and too disorganized to result in anything at all, and if anything, I would anticipate it resulting in some combination of the two rotation matrices. It being related to a third, semmingly unrelated matrix in any way seemed far-fetched. And yet, it was the case, and the result tied a lot of loose ends together. \n",
        "\n",
        "The most challenging thing about this particular project was the learning curve of a different programming language. I could not imagine starting to code in such a way, as even with the knowledge of how coding typically functions, this project was particularly challenging. Even as I am typing this up, I am having issues with my code that are unresolved, issues that I have yet to figure out how to fix. But its part of the process, and as I was putting off learnign Python as it was, it was a good learning experience to be thrust into it and had to figure it out as I went. I think overall, it made learning even the conent significantly easier as I had to think about what I wanted to accomplish a whole lot more than I would have in a different learning environment. "
      ]
    }
  ]
}